{
 "cells": [
  {
   "cell_type": "code",
   "execution_count": 7,
   "metadata": {},
   "outputs": [],
   "source": [
    "import os\n",
    "from PIL import Image\n",
    "mypath = \"Labels_test/\"\n",
    "outpath = \"Labels_test/output/\"\n",
    "ImagePath=\"Images/\""
   ]
  },
  {
   "cell_type": "code",
   "execution_count": 8,
   "metadata": {
    "scrolled": false
   },
   "outputs": [],
   "source": [
    "if not os.path.exists(outpath):\n",
    "    os.mkdir(outpath)\n",
    "txt_name_list = []\n",
    "for (dirpath, dirnames, filenames) in os.walk(mypath):\n",
    "    txt_name_list.extend(filenames)\n",
    "    break"
   ]
  },
  {
   "cell_type": "code",
   "execution_count": 9,
   "metadata": {},
   "outputs": [],
   "source": [
    "img_name_list = []\n",
    "for (dirpath, dirnames, filenames) in os.walk(ImagePath):\n",
    "    img_name_list.extend(filenames)\n",
    "    break"
   ]
  },
  {
   "cell_type": "code",
   "execution_count": 10,
   "metadata": {},
   "outputs": [],
   "source": [
    "f = False\n",
    "difficult = 0"
   ]
  },
  {
   "cell_type": "code",
   "execution_count": 11,
   "metadata": {},
   "outputs": [],
   "source": [
    "def convert(size, box):\n",
    "    dw = 1./size[0]\n",
    "    dh = 1./size[1]\n",
    "    x = (box[0] + box[1])/2.0\n",
    "    y = (box[2] + box[3])/2.0\n",
    "    w = box[1] - box[0]\n",
    "    h = box[3] - box[2]\n",
    "    x = x*dw\n",
    "    w = w*dw\n",
    "    y = y*dh\n",
    "    h = h*dh\n",
    "    return (x,y,w,h)"
   ]
  },
  {
   "cell_type": "code",
   "execution_count": 12,
   "metadata": {},
   "outputs": [],
   "source": [
    "c=0\n",
    "for txt_name in txt_name_list:  \n",
    "    with Image.open(ImagePath + img_name_list[c] ) as img:\n",
    "                w, h = img.size\n",
    "    c = c+1\n",
    "    with open(mypath+ txt_name, 'rb') as f:\n",
    "            txt_outfile = open(outpath + \"img_\" + (txt_name[:-4].split(\"_\"))[-1] + \".txt\", \"w+\")\n",
    "            for line in f:\n",
    "                gt_txt = line.decode(\"utf-8-sig\")\n",
    "                gt_ind = gt_txt.split(',')\n",
    "                if len(gt_ind) == 9 or 10:\n",
    "                    pt1 = (int(gt_ind[0]), int(gt_ind[1]))  \n",
    "                    pt2 = (int(gt_ind[2]), int(gt_ind[3]))  \n",
    "                    pt3 = (int(gt_ind[4]), int(gt_ind[5]))  \n",
    "                    pt4 = (int(gt_ind[6]), int(gt_ind[7]))  \n",
    "                    dtxt = gt_ind[8]  \n",
    "                    if \"###\" in dtxt:  \n",
    "                        difficult = 1  \n",
    "                    else:  \n",
    "                        difficult = 0  \n",
    "\n",
    "                    x = pt1[0]\n",
    "                    y = pt1[1]\n",
    "                    width = pt3[0]\n",
    "                    height = pt3[1]\n",
    "                    b = (float(x), float(width), float(y), float(height))\n",
    "                    bb = convert((w,h),b)\n",
    "                    txt_outfile.write(\"0\" + \" \" + \" \".join([str(a) for a in bb]) + '\\n')\n",
    "            txt_outfile.close()"
   ]
  },
  {
   "cell_type": "code",
   "execution_count": 113,
   "metadata": {},
   "outputs": [
    {
     "data": {
      "text/plain": [
       "<_io.BufferedReader name='Labels_2/gt_img_999.txt'>"
      ]
     },
     "execution_count": 113,
     "metadata": {},
     "output_type": "execute_result"
    }
   ],
   "source": []
  },
  {
   "cell_type": "code",
   "execution_count": 12,
   "metadata": {},
   "outputs": [],
   "source": [
    "b = (float(x), float(width), float(y), float(height))"
   ]
  },
  {
   "cell_type": "code",
   "execution_count": 13,
   "metadata": {},
   "outputs": [
    {
     "data": {
      "text/plain": [
       "(374.0, 492.0, 1.0, 85.0)"
      ]
     },
     "execution_count": 13,
     "metadata": {},
     "output_type": "execute_result"
    }
   ],
   "source": [
    "b"
   ]
  },
  {
   "cell_type": "code",
   "execution_count": 16,
   "metadata": {},
   "outputs": [],
   "source": [
    "w=400\n",
    "h=290"
   ]
  },
  {
   "cell_type": "code",
   "execution_count": 40,
   "metadata": {},
   "outputs": [],
   "source": [
    "txt_outfile = open(\"nader.txt\", \"w+\")"
   ]
  },
  {
   "cell_type": "code",
   "execution_count": 41,
   "metadata": {
    "scrolled": true
   },
   "outputs": [
    {
     "data": {
      "text/plain": [
       "73"
      ]
     },
     "execution_count": 41,
     "metadata": {},
     "output_type": "execute_result"
    }
   ],
   "source": [
    "txt_outfile.write(\"0\" + \" \" + \" \".join([str(a) for a in bb]) + '\\n')"
   ]
  },
  {
   "cell_type": "code",
   "execution_count": 25,
   "metadata": {},
   "outputs": [],
   "source": [
    "bb=convert((w,h),b)"
   ]
  },
  {
   "cell_type": "code",
   "execution_count": 19,
   "metadata": {},
   "outputs": [
    {
     "data": {
      "text/plain": [
       "(0.33828125000000003, 0.059722222222222225, 0.0921875, 0.11666666666666667)"
      ]
     },
     "execution_count": 19,
     "metadata": {},
     "output_type": "execute_result"
    }
   ],
   "source": [
    "bb"
   ]
  },
  {
   "cell_type": "code",
   "execution_count": 38,
   "metadata": {},
   "outputs": [
    {
     "data": {
      "text/plain": [
       "'1'"
      ]
     },
     "execution_count": 38,
     "metadata": {},
     "output_type": "execute_result"
    }
   ],
   "source": [
    "(gt_name[:-4].split(\"_\"))[-1]"
   ]
  },
  {
   "cell_type": "code",
   "execution_count": 72,
   "metadata": {},
   "outputs": [],
   "source": [
    "c=0"
   ]
  },
  {
   "cell_type": "code",
   "execution_count": 94,
   "metadata": {},
   "outputs": [],
   "source": [
    "with Image.open(ImagePath + img_name_list[c] ) as img:\n",
    "                w, h = img.size"
   ]
  },
  {
   "cell_type": "code",
   "execution_count": 95,
   "metadata": {},
   "outputs": [
    {
     "name": "stdout",
     "output_type": "stream",
     "text": [
      "1024 768 4\n"
     ]
    }
   ],
   "source": [
    "print(w,h,c)"
   ]
  }
 ],
 "metadata": {
  "kernelspec": {
   "display_name": "Python [default]",
   "language": "python",
   "name": "python3"
  },
  "language_info": {
   "codemirror_mode": {
    "name": "ipython",
    "version": 3
   },
   "file_extension": ".py",
   "mimetype": "text/x-python",
   "name": "python",
   "nbconvert_exporter": "python",
   "pygments_lexer": "ipython3",
   "version": "3.6.5"
  }
 },
 "nbformat": 4,
 "nbformat_minor": 2
}
