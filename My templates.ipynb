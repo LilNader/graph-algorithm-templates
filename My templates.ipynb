{
 "cells": [
  {
   "cell_type": "markdown",
   "metadata": {},
   "source": [
    "# Graph Implementation"
   ]
  },
  {
   "cell_type": "code",
   "execution_count": 28,
   "metadata": {},
   "outputs": [],
   "source": [
    "class Vertex:\n",
    "    def __init__(self, vertex):\n",
    "        self.name = vertex\n",
    "        self.neighbors = []\n",
    "        \n",
    "    def add_neighbor(self, neighbor):\n",
    "        if isinstance(neighbor, Vertex):\n",
    "            if neighbor.name not in self.neighbors:\n",
    "                self.neighbors.append(neighbor.name)\n",
    "                neighbor.neighbors.append(self.name)\n",
    "                self.neighbors = sorted(self.neighbors)\n",
    "                neighbor.neighbors = sorted(neighbor.neighbors)\n",
    "        else:\n",
    "            return False\n",
    "        \n",
    "    def add_neighbors(self, neighbors):\n",
    "        for neighbor in neighbors:\n",
    "            if isinstance(neighbor, Vertex):\n",
    "                if neighbor.name not in self.neighbors:\n",
    "                    self.neighbors.append(neighbor.name)\n",
    "                    neighbor.neighbors.append(self.name)\n",
    "                    self.neighbors = sorted(self.neighbors)\n",
    "                    neighbor.neighbors = sorted(neighbor.neighbors)\n",
    "            else:\n",
    "                return False\n",
    "        \n",
    "    def __repr__(self):\n",
    "        return str(self.neighbors)\n",
    "\n",
    "\n",
    "class Graph:\n",
    "    def __init__(self):\n",
    "        self.vertices = {}\n",
    "    \n",
    "    def add_vertex(self, vertex):\n",
    "        if isinstance(vertex, Vertex):\n",
    "            self.vertices[vertex.name] = vertex.neighbors\n",
    "\n",
    "            \n",
    "    def add_vertices(self, vertices):\n",
    "        for vertex in vertices:\n",
    "            if isinstance(vertex, Vertex):\n",
    "                self.vertices[vertex.name] = vertex.neighbors\n",
    "\n",
    "            \n",
    "    def add_edge(self, vertex_from, vertex_to):\n",
    "        if isinstance(vertex_from, Vertex) and isinstance(vertex_to, Vertex):\n",
    "            vertex_from.add_neighbor(vertex_to)\n",
    "            if isinstance(vertex_from, Vertex) and isinstance(vertex_to, Vertex):\n",
    "                self.vertices[vertex_from.name] = vertex_from.neighbors\n",
    "                self.vertices[vertex_to.name] = vertex_to.neighbors\n",
    "                \n",
    "    def add_edges(self, edges):\n",
    "        for edge in edges:\n",
    "            self.add_edge(edge[0],edge[1])          \n",
    "    \n",
    "    def adjacencyList(self):\n",
    "        \n",
    "        if len(self.vertices) >= 1:\n",
    "                return {key  :  set(self.vertices[key]) for key in self.vertices.keys()}\n",
    "        else:\n",
    "            return dict()\n",
    "        \n",
    "    def adjacencyMatrix(self):\n",
    "        if len(self.vertices) >= 1:\n",
    "            self.vertex_names = sorted(g.vertices.keys())\n",
    "            self.vertex_indices = dict(zip(self.vertex_names, range(len(self.vertex_names)))) \n",
    "            import numpy as np\n",
    "            self.adjacency_matrix = np.zeros(shape=(len(self.vertices),len(self.vertices)))\n",
    "            for i in range(len(self.vertex_names)):\n",
    "                for j in range(i, len(self.vertices)):\n",
    "                    for el in g.vertices[self.vertex_names[i]]:\n",
    "                        j = g.vertex_indices[el]\n",
    "                        self.adjacency_matrix[i,j] = 1\n",
    "            return self.adjacency_matrix\n",
    "        else:\n",
    "            return dict()              \n",
    "                        \n",
    "\n",
    "def graph_list(g):\n",
    "    \n",
    "    return g.adjacencyList()\n",
    "def graph_matrix(g):\n",
    "    \n",
    "    return g.adjacencyMatrix()"
   ]
  },
  {
   "cell_type": "markdown",
   "metadata": {},
   "source": [
    "## Testing"
   ]
  },
  {
   "cell_type": "code",
   "execution_count": 29,
   "metadata": {},
   "outputs": [],
   "source": [
    "a = Vertex('A')\n",
    "b = Vertex('B')\n",
    "c = Vertex('C')\n",
    "d = Vertex('D')\n",
    "e = Vertex('E')"
   ]
  },
  {
   "cell_type": "code",
   "execution_count": 30,
   "metadata": {},
   "outputs": [],
   "source": [
    "a.add_neighbors([b,c,e]) \n",
    "b.add_neighbors([a,c])\n",
    "c.add_neighbors([b,d,a,e])\n",
    "d.add_neighbor(c)\n",
    "e.add_neighbors([a,c])"
   ]
  },
  {
   "cell_type": "code",
   "execution_count": 31,
   "metadata": {},
   "outputs": [],
   "source": [
    "g = Graph()"
   ]
  },
  {
   "cell_type": "code",
   "execution_count": 32,
   "metadata": {},
   "outputs": [],
   "source": [
    "g.add_vertices([a,b,c,d,e])"
   ]
  },
  {
   "cell_type": "code",
   "execution_count": 33,
   "metadata": {},
   "outputs": [
    {
     "data": {
      "text/plain": [
       "{'A': {'B', 'C', 'E'},\n",
       " 'B': {'A', 'C'},\n",
       " 'C': {'A', 'B', 'D', 'E'},\n",
       " 'D': {'C'},\n",
       " 'E': {'A', 'C'}}"
      ]
     },
     "execution_count": 33,
     "metadata": {},
     "output_type": "execute_result"
    }
   ],
   "source": [
    "graph_list(g)"
   ]
  },
  {
   "cell_type": "code",
   "execution_count": 34,
   "metadata": {},
   "outputs": [
    {
     "data": {
      "text/plain": [
       "array([[0., 1., 1., 0., 1.],\n",
       "       [1., 0., 1., 0., 0.],\n",
       "       [1., 1., 0., 1., 1.],\n",
       "       [0., 0., 1., 0., 0.],\n",
       "       [1., 0., 1., 0., 0.]])"
      ]
     },
     "execution_count": 34,
     "metadata": {},
     "output_type": "execute_result"
    }
   ],
   "source": [
    "graph_matrix(g)"
   ]
  },
  {
   "cell_type": "code",
   "execution_count": 34,
   "metadata": {},
   "outputs": [],
   "source": [
    "g.add_edge(b,d)"
   ]
  },
  {
   "cell_type": "markdown",
   "metadata": {},
   "source": [
    "# Backtracking Algo"
   ]
  },
  {
   "cell_type": "code",
   "execution_count": 13,
   "metadata": {},
   "outputs": [],
   "source": [
    " def find_all_paths(graph, start, end, path=[]):\n",
    "        path = path + [start]\n",
    "        if start == end:\n",
    "            return [path]\n",
    "        if start not in graph:\n",
    "            return []\n",
    "        paths = []\n",
    "        for node in graph[start]:\n",
    "            if node not in path:\n",
    "                newpaths = find_all_paths(graph, node, end, path)\n",
    "                for newpath in newpaths:\n",
    "                    paths.append(newpath)\n",
    "        return paths"
   ]
  },
  {
   "cell_type": "code",
   "execution_count": 25,
   "metadata": {},
   "outputs": [
    {
     "data": {
      "text/plain": [
       "[['E', 'A', 'B', 'C', 'D'], ['E', 'A', 'C', 'D'], ['E', 'C', 'D']]"
      ]
     },
     "execution_count": 25,
     "metadata": {},
     "output_type": "execute_result"
    }
   ],
   "source": [
    "find_all_paths(graph_list(g),'E','D')"
   ]
  },
  {
   "cell_type": "code",
   "execution_count": 26,
   "metadata": {},
   "outputs": [],
   "source": [
    "def find_shortest_path(graph, start, end, path=[]):\n",
    "        path = path + [start]\n",
    "        if start == end:\n",
    "            return path\n",
    "        if start not in graph:\n",
    "            return None\n",
    "        shortest = None\n",
    "        for node in graph[start]:\n",
    "            if node not in path:\n",
    "                newpath = find_shortest_path(graph, node, end, path)\n",
    "                if newpath:\n",
    "                    if not shortest or len(newpath) < len(shortest):\n",
    "                        shortest = newpath\n",
    "        return shortest"
   ]
  },
  {
   "cell_type": "code",
   "execution_count": 27,
   "metadata": {},
   "outputs": [
    {
     "data": {
      "text/plain": [
       "['E', 'C', 'D']"
      ]
     },
     "execution_count": 27,
     "metadata": {},
     "output_type": "execute_result"
    }
   ],
   "source": [
    "find_shortest_path(graph_list(g),'E','D')"
   ]
  },
  {
   "cell_type": "markdown",
   "metadata": {},
   "source": [
    "# BFS ALGO"
   ]
  },
  {
   "cell_type": "code",
   "execution_count": 42,
   "metadata": {},
   "outputs": [],
   "source": [
    "def bfs_shortest_path(graph, start, goal):\n",
    "    \n",
    "    explored = []\n",
    "   \n",
    "    queue = [[start]]\n",
    "\n",
    "    if start == goal:\n",
    "        return [start,goal] \n",
    "    \n",
    "    while queue:\n",
    "        path = queue.pop(0)\n",
    "        node = path[-1]\n",
    "        if node not in explored:\n",
    "            neighbours = graph[node]\n",
    "    \n",
    "            for neighbour in neighbours:\n",
    "                new_path = list(path)\n",
    "                new_path.append(neighbour)\n",
    "                queue.append(new_path)\n",
    "                \n",
    "                if neighbour == goal:\n",
    "                    return new_path\n",
    "\n",
    "            explored.append(node)"
   ]
  },
  {
   "cell_type": "code",
   "execution_count": 43,
   "metadata": {},
   "outputs": [
    {
     "data": {
      "text/plain": [
       "['E', 'C', 'D']"
      ]
     },
     "execution_count": 43,
     "metadata": {},
     "output_type": "execute_result"
    }
   ],
   "source": [
    "bfs_shortest_path(graph_list(g),'E','D')"
   ]
  },
  {
   "cell_type": "code",
   "execution_count": 44,
   "metadata": {},
   "outputs": [],
   "source": [
    "def bfs_connected_component(graph, start):\n",
    "    # keep track of all visited nodes\n",
    "    explored = []\n",
    "    # keep track of nodes to be checked\n",
    "    queue = [start]\n",
    " \n",
    "    # keep looping until there are nodes still to be checked\n",
    "    while queue:\n",
    "        # pop shallowest node (first node) from queue\n",
    "        node = queue.pop(0)\n",
    "        if node not in explored:\n",
    "            # add node to list of checked nodes\n",
    "            explored.append(node)\n",
    "            neighbours = graph[node]\n",
    " \n",
    "            # add neighbours of node to queue\n",
    "            for neighbour in neighbours:\n",
    "                queue.append(neighbour)\n",
    "    return explored[:]"
   ]
  },
  {
   "cell_type": "code",
   "execution_count": 45,
   "metadata": {},
   "outputs": [
    {
     "data": {
      "text/plain": [
       "['E', 'A', 'C', 'B', 'D']"
      ]
     },
     "execution_count": 45,
     "metadata": {},
     "output_type": "execute_result"
    }
   ],
   "source": [
    "bfs_connected_component(graph_list(g),'E')"
   ]
  },
  {
   "cell_type": "code",
   "execution_count": 46,
   "metadata": {},
   "outputs": [],
   "source": [
    "def bfs_paths(graph, start, goal):\n",
    "    queue = [(start, [start])]\n",
    "    while queue:\n",
    "        (vertex, path) = queue.pop(0)\n",
    "        for next in graph[vertex] - set(path):\n",
    "            if next == goal:\n",
    "                yield path + [next]\n",
    "            else:\n",
    "                queue.append((next, path + [next]))"
   ]
  },
  {
   "cell_type": "code",
   "execution_count": 49,
   "metadata": {},
   "outputs": [
    {
     "data": {
      "text/plain": [
       "[['E', 'C', 'D'], ['E', 'A', 'C', 'D'], ['E', 'A', 'B', 'C', 'D']]"
      ]
     },
     "execution_count": 49,
     "metadata": {},
     "output_type": "execute_result"
    }
   ],
   "source": [
    "list(bfs_paths(graph_list(g), 'E', 'D'))"
   ]
  },
  {
   "cell_type": "markdown",
   "metadata": {},
   "source": [
    "# DFS ALGO"
   ]
  },
  {
   "cell_type": "markdown",
   "metadata": {},
   "source": [
    "# Connected Component"
   ]
  },
  {
   "cell_type": "code",
   "execution_count": 50,
   "metadata": {},
   "outputs": [],
   "source": [
    "def dfs(graph, start):\n",
    "    visited, stack = set(), [start]\n",
    "    while stack:\n",
    "        vertex = stack.pop()\n",
    "        if vertex not in visited:\n",
    "            visited.add(vertex)\n",
    "            stack.extend(graph[vertex] - visited)\n",
    "    return visited\n"
   ]
  },
  {
   "cell_type": "code",
   "execution_count": null,
   "metadata": {},
   "outputs": [],
   "source": [
    "dfs(graph_list(g),'E')"
   ]
  },
  {
   "cell_type": "markdown",
   "metadata": {},
   "source": [
    "DFS Paths"
   ]
  },
  {
   "cell_type": "code",
   "execution_count": 52,
   "metadata": {},
   "outputs": [],
   "source": [
    "def dfs_paths(graph, start, goal):\n",
    "    stack = [(start, [start])]\n",
    "    while stack:\n",
    "        (vertex, path) = stack.pop()\n",
    "        for next in graph[vertex] - set(path):\n",
    "            if next == goal:\n",
    "                yield path + [next]\n",
    "            else:\n",
    "                stack.append((next, path + [next]))"
   ]
  },
  {
   "cell_type": "code",
   "execution_count": 55,
   "metadata": {},
   "outputs": [
    {
     "data": {
      "text/plain": [
       "[['E', 'C', 'D'], ['E', 'A', 'C', 'D'], ['E', 'A', 'B', 'C', 'D']]"
      ]
     },
     "execution_count": 55,
     "metadata": {},
     "output_type": "execute_result"
    }
   ],
   "source": [
    "list(dfs_paths(graph_list(g),'E','D'))"
   ]
  },
  {
   "cell_type": "markdown",
   "metadata": {},
   "source": [
    "## ANOTHER BFS"
   ]
  },
  {
   "cell_type": "code",
   "execution_count": 56,
   "metadata": {},
   "outputs": [],
   "source": [
    "def bfs(graph, start):\n",
    "    visited, queue = set(), [start]\n",
    "    while queue:\n",
    "        vertex = queue.pop(0)\n",
    "        if vertex not in visited:\n",
    "            visited.add(vertex)\n",
    "            queue.extend(graph[vertex] - visited)\n",
    "    return visited"
   ]
  },
  {
   "cell_type": "code",
   "execution_count": 59,
   "metadata": {},
   "outputs": [],
   "source": [
    "def bfs_paths(graph, start, goal):\n",
    "    queue = [(start, [start])]\n",
    "    while queue:\n",
    "        (vertex, path) = queue.pop(0)\n",
    "        for next in graph[vertex] - set(path):\n",
    "            if next == goal:\n",
    "                yield path + [next] #returns list of paths\n",
    "            else:\n",
    "                queue.append((next, path + [next]))\n"
   ]
  },
  {
   "cell_type": "code",
   "execution_count": 58,
   "metadata": {},
   "outputs": [],
   "source": [
    "def shortest_path(graph, start, goal):\n",
    "    try:\n",
    "        return next(bfs_paths(graph, start, goal))\n",
    "    except StopIteration:\n",
    "        return None"
   ]
  },
  {
   "cell_type": "markdown",
   "metadata": {},
   "source": [
    "# Creating Weighted Adjacent List"
   ]
  },
  {
   "cell_type": "code",
   "execution_count": 60,
   "metadata": {},
   "outputs": [],
   "source": [
    "def weighted_list(graph):\n",
    "    \n",
    "    adjacency_list ={}\n",
    "    for i in graph:\n",
    "        f,t,w = map(str,line)\n",
    "        adjacency_list.setdefault(f,{})[t] = w\n",
    "        adjacency_list.setdefault(t,{})[f] = w\n",
    "    return adjacency_list"
   ]
  },
  {
   "cell_type": "code",
   "execution_count": null,
   "metadata": {},
   "outputs": [],
   "source": []
  }
 ],
 "metadata": {
  "kernelspec": {
   "display_name": "Python [default]",
   "language": "python",
   "name": "python3"
  },
  "language_info": {
   "codemirror_mode": {
    "name": "ipython",
    "version": 3
   },
   "file_extension": ".py",
   "mimetype": "text/x-python",
   "name": "python",
   "nbconvert_exporter": "python",
   "pygments_lexer": "ipython3",
   "version": "3.6.5"
  }
 },
 "nbformat": 4,
 "nbformat_minor": 2
}
